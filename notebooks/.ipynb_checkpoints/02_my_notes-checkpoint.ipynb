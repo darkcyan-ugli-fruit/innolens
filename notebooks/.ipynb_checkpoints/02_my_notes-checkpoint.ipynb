{
 "cells": [
  {
   "cell_type": "markdown",
   "id": "b29d60a8",
   "metadata": {},
   "source": [
    "# Github\n",
    "\n",
    "```git remote remove origin  # optional: if 'origin' is already set and points to Nomades```\n",
    "\n",
    "```git remote add personal git@github.com:your-username/your-personal-repo.git```\n",
    "\n",
    "```git remote add nomades git@github.com:NomadesAdvancedTechnologies/ppl-2025-0506-darkcyan-ugli-fruit.git```\n",
    "\n",
    "```it remote -v```\n",
    "\n",
    "```git push personal main```\n",
    "\n",
    "```git push nomades main```\n",
    "\n"
   ]
  }
 ],
 "metadata": {
  "language_info": {
   "name": "python"
  }
 },
 "nbformat": 4,
 "nbformat_minor": 5
}
