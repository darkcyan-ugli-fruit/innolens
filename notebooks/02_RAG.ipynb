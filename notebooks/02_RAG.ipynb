{
 "cells": [
  {
   "cell_type": "markdown",
   "id": "8cf88392",
   "metadata": {},
   "source": [
    "# Open alex API\n"
   ]
  },
  {
   "cell_type": "code",
   "execution_count": null,
   "id": "007b9acc",
   "metadata": {},
   "outputs": [],
   "source": []
  },
  {
   "cell_type": "markdown",
   "id": "eed2fb80",
   "metadata": {},
   "source": []
  }
 ],
 "metadata": {
  "kernelspec": {
   "display_name": "innolens",
   "language": "python",
   "name": "python3"
  },
  "language_info": {
   "codemirror_mode": {
    "name": "ipython",
    "version": 3
   },
   "file_extension": ".py",
   "mimetype": "text/x-python",
   "name": "python",
   "nbconvert_exporter": "python",
   "pygments_lexer": "ipython3",
   "version": "3.10.16"
  }
 },
 "nbformat": 4,
 "nbformat_minor": 5
}
